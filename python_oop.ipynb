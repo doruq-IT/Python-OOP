{
 "cells": [
  {
   "cell_type": "code",
   "execution_count": 1,
   "metadata": {},
   "outputs": [
    {
     "name": "stdout",
     "output_type": "stream",
     "text": [
      "init metodu çalıştı\n",
      "init metodu çalıştı\n",
      "Benim adım okan ve doğum yılım 1984\n",
      "no information\n",
      "hello there. I am okan\n",
      "hello there. I am oznur\n",
      "yaşım: 39\n",
      "yaşım: 36\n"
     ]
    }
   ],
   "source": [
    "class person:\n",
    "    # class attributes\n",
    "    address = \"no information\"\n",
    "\n",
    "    # constructor (yapıcı metod)\n",
    "    def __init__(self, name, year):\n",
    "\n",
    "        # object attributes\n",
    "        self.name = name\n",
    "        self.year = year\n",
    "        print(\"init metodu çalıştı\")\n",
    "\n",
    "    # instance methods\n",
    "    def intro(self):\n",
    "        print(\"hello there. I am \" + self.name)\n",
    "\n",
    "    def calculateAge(self):\n",
    "        return 2023 - self.year\n",
    "    \n",
    "p1 = person(\"okan\", 1984)\n",
    "p2 = person(\"oznur\", 1987)\n",
    "print(f\"Benim adım {p1.name} ve doğum yılım {p1.year}\")\n",
    "print(p1.address)\n",
    "p1.intro()\n",
    "p2.intro()\n",
    "print(f\"yaşım: {p1.calculateAge()}\")\n",
    "print(f\"yaşım: {p2.calculateAge()}\")"
   ]
  },
  {
   "cell_type": "code",
   "execution_count": 2,
   "metadata": {},
   "outputs": [
    {
     "name": "stdout",
     "output_type": "stream",
     "text": [
      "c1 : alan = 3.14 çevre = 6.28\n",
      "c1 : alan = 78.5 çevre = 31.400000000000002\n"
     ]
    }
   ],
   "source": [
    "class Circle:\n",
    "    pi=3.14\n",
    "\n",
    "    def __init__(self, yaricap = 1):\n",
    "        self.yaricap = yaricap\n",
    "    \n",
    "    #method\n",
    "    def cevreHesap(self):\n",
    "        return 2*self.pi * self.yaricap\n",
    "    \n",
    "    def alanHesap(self):\n",
    "        return self.pi*(self.yaricap**2)\n",
    "\n",
    "c1 = Circle()\n",
    "c2 = Circle(5)\n",
    "print(f\"c1 : alan = {c1.alanHesap()} çevre = {c1.cevreHesap()}\")\n",
    "print(f\"c1 : alan = {c2.alanHesap()} çevre = {c2.cevreHesap()}\")"
   ]
  },
  {
   "cell_type": "code",
   "execution_count": 3,
   "metadata": {},
   "outputs": [
    {
     "name": "stdout",
     "output_type": "stream",
     "text": [
      "Person Created\n",
      "Person Created\n",
      "student created\n",
      "Ali Yilmaz\n",
      "Çınar Turan 1256\n",
      "I am a Person\n",
      "I am a Student\n",
      "Person Created\n",
      "I am a Bilg teacher\n"
     ]
    }
   ],
   "source": [
    "# Inheritence (Kalıtım): Miras alma\n",
    "\n",
    "# Person => name, lastname\n",
    "# Student(Person), Teacher(Person)\n",
    "\n",
    "# Animal => Dog(Animal), Cat(Animal)\n",
    "\n",
    "class Person():\n",
    "    def __init__(self, fname, lname):\n",
    "        self.firstname = fname\n",
    "        self.lastname = lname\n",
    "\n",
    "        print(\"Person Created\")\n",
    "    \n",
    "    def who_am_i(self):\n",
    "        print(\"I am a Person\")\n",
    "\n",
    "\n",
    "class Student(Person):\n",
    "    def __init__(self, fname, lname, number):\n",
    "        Person.__init__(self, fname, lname)\n",
    "        self.number = number\n",
    "        print(\"student created\")\n",
    "    \n",
    "    def who_am_i(self): # Person sınıfını bu sefer ezdirdik.\n",
    "        print(\"I am a Student\")\n",
    "\n",
    "class Teacher(Person):\n",
    "    def __init__(self, fname, lname, branch):\n",
    "    #   Person.__init__(self, fname, lname): # Bu ezdirmemek adına 1. yol veya\n",
    "        super().__init__(fname, lname) # Bu şekilde de yapabiliriz.\n",
    "        self.branch = branch\n",
    "    \n",
    "    def who_am_i(self):\n",
    "        print(f\"I am a {self.branch} teacher\")\n",
    "\n",
    "# Önemli not: Student class ı çalışacaktır.\n",
    "# Her ne kadar Person sınıfından kalıtım yoluyla\n",
    "# Bu sınıfın özelliklerini alsada\n",
    "# Student sınıfı Person sınıfını ezer.\n",
    "# Eziyor olsada Person sınıfınıda çalıştırmak için\n",
    "# Person.__init__(self) ile Person sınıfının çalışmasını\n",
    "# sağladık\n",
    "p1 = Person(\"Ali\", \"Yilmaz\")\n",
    "s1 = Student(\"Çınar\", \"Turan\", 1256)\n",
    "print(p1.firstname + \" \" + p1.lastname)\n",
    "print(s1.firstname + \" \" + s1.lastname + \" \" + str(s1.number))\n",
    "\n",
    "p1.who_am_i()\n",
    "s1.who_am_i()\n",
    "\n",
    "t1 = Teacher(\"Okan\",\"Kurtar\", \"Bilg\")\n",
    "t1.who_am_i()"
   ]
  },
  {
   "attachments": {},
   "cell_type": "markdown",
   "metadata": {},
   "source": [
    "### Special Methods"
   ]
  },
  {
   "cell_type": "code",
   "execution_count": 4,
   "metadata": {},
   "outputs": [
    {
     "name": "stdout",
     "output_type": "stream",
     "text": [
      "['a', 'b', 'c', 'd']\n",
      "4\n"
     ]
    }
   ],
   "source": [
    "list = []\n",
    "class list_giris():\n",
    "    def __init__(self, sayi):\n",
    "        self.sayi = sayi\n",
    "        for i in range(sayi):\n",
    "            son = input(\"liste elemanı giriniz\")\n",
    "            list.append(son)\n",
    "        print(list)\n",
    "\n",
    "class saydir(list_giris):\n",
    "    def __init__(self, sayi):\n",
    "        super().__init__(sayi)\n",
    "        self.count = 0\n",
    "        for i in list:\n",
    "            self.count +=1\n",
    "        print(self.count)\n",
    "\n",
    "\n",
    "\n",
    "adet = int(input(\"Kaç eleman girmek istersiniz: \"))\n",
    "#s1 = list_giris(3)\n",
    "s2 = saydir(adet)"
   ]
  }
 ],
 "metadata": {
  "kernelspec": {
   "display_name": "base",
   "language": "python",
   "name": "python3"
  },
  "language_info": {
   "codemirror_mode": {
    "name": "ipython",
    "version": 3
   },
   "file_extension": ".py",
   "mimetype": "text/x-python",
   "name": "python",
   "nbconvert_exporter": "python",
   "pygments_lexer": "ipython3",
   "version": "3.9.16"
  },
  "orig_nbformat": 4
 },
 "nbformat": 4,
 "nbformat_minor": 2
}
