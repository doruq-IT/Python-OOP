{
 "cells": [
  {
   "cell_type": "code",
   "execution_count": null,
   "metadata": {},
   "outputs": [],
   "source": [
    "class person:\n",
    "    # class attributes\n",
    "    address = \"no information\"\n",
    "\n",
    "    # constructor (yapıcı metod)\n",
    "    def __init__(self, name, year):\n",
    "\n",
    "        # object attributes\n",
    "        self.name = name\n",
    "        self.year = year\n",
    "        print(\"init metodu çalıştı\")\n",
    "\n",
    "    # instance methods\n",
    "    def intro(self):\n",
    "        print(\"hello there. I am \" + self.name)\n",
    "\n",
    "    def calculateAge(self):\n",
    "        return 2023 - self.year\n",
    "    \n",
    "p1 = person(\"okan\", 1984)\n",
    "p2 = person(\"oznur\", 1987)\n",
    "print(f\"Benim adım {p1.name} ve doğum yılım {p1.year}\")\n",
    "print(p1.address)\n",
    "p1.intro()\n",
    "p2.intro()\n",
    "print(f\"yaşım: {p1.calculateAge()}\")\n",
    "print(f\"yaşım: {p2.calculateAge()}\")"
   ]
  },
  {
   "cell_type": "code",
   "execution_count": null,
   "metadata": {},
   "outputs": [],
   "source": [
    "class Circle:\n",
    "    pi=3.14\n",
    "\n",
    "    def __init__(self, yaricap = 1):\n",
    "        self.yaricap = yaricap\n",
    "    \n",
    "    #method\n",
    "    def cevreHesap(self):\n",
    "        return 2*self.pi * self.yaricap\n",
    "    \n",
    "    def alanHesap(self):\n",
    "        return self.pi*(self.yaricap**2)\n",
    "\n",
    "c1 = Circle()\n",
    "c2 = Circle(5)\n",
    "print(f\"c1 : alan = {c1.alanHesap()} çevre = {c1.cevreHesap()}\")\n",
    "print(f\"c1 : alan = {c2.alanHesap()} çevre = {c2.cevreHesap()}\")"
   ]
  }
 ],
 "metadata": {
  "language_info": {
   "name": "python"
  },
  "orig_nbformat": 4
 },
 "nbformat": 4,
 "nbformat_minor": 2
}
