{
 "cells": [
  {
   "cell_type": "code",
   "execution_count": null,
   "metadata": {},
   "outputs": [],
   "source": [
    "class person:\n",
    "    # class attributes\n",
    "    address = \"no information\"\n",
    "\n",
    "    # constructor (yapıcı metod)\n",
    "    def __init__(self, name, year):\n",
    "\n",
    "        # object attributes\n",
    "        self.name = name\n",
    "        self.year = year\n",
    "        print(\"init metodu çalıştı\")\n",
    "\n",
    "    # instance methods\n",
    "    def intro(self):\n",
    "        print(\"hello there. I am \" + self.name)\n",
    "\n",
    "    def calculateAge(self):\n",
    "        return 2023 - self.year\n",
    "    \n",
    "p1 = person(\"okan\", 1984)\n",
    "p2 = person(\"oznur\", 1987)\n",
    "print(f\"Benim adım {p1.name} ve doğum yılım {p1.year}\")\n",
    "print(p1.address)\n",
    "p1.intro()\n",
    "p2.intro()\n",
    "print(f\"yaşım: {p1.calculateAge()}\")\n",
    "print(f\"yaşım: {p2.calculateAge()}\")"
   ]
  }
 ],
 "metadata": {
  "language_info": {
   "name": "python"
  },
  "orig_nbformat": 4
 },
 "nbformat": 4,
 "nbformat_minor": 2
}
